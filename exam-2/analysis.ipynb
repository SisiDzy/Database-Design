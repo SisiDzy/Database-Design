{
  "metadata": {
    "colab": {
      "provenance": []
    },
    "vscode": {
      "interpreter": {
        "hash": "40d3a090f54c6569ab1632332b64b2c03c39dcf918b08424e98f38b5ae0af88f"
      }
    },
    "kernelspec": {
      "name": "python",
      "display_name": "Python (Pyodide)",
      "language": "python"
    },
    "language_info": {
      "codemirror_mode": {
        "name": "python",
        "version": 3
      },
      "file_extension": ".py",
      "mimetype": "text/x-python",
      "name": "python",
      "nbconvert_exporter": "python",
      "pygments_lexer": "ipython3",
      "version": "3.8"
    }
  },
  "nbformat_minor": 4,
  "nbformat": 4,
  "cells": [
    {
      "cell_type": "markdown",
      "source": "# Exam 2\n\n## 1. Introduction\nThe companion Google Form for this exam includes a set of questions that you can only answer by writing code. That code must be entered into this notebook.\n\nSome requirements: \n1. This notebook must clearly **show all the work necessary to answer each question** in the Google Form.\n1. **Your code must unambiguously show that you have answered each question**.  For questions where you are unable to determine the answer using code, include descriptive text explaining what you believe to be the answer, and any reason you are unable to show it in the code.\n1. All code in this notebook must be **well-documented using Markdown**.  Indicate each question you are answering and clearly describe what each block of code is doing.  Your ability to write well-formatted Markdown that clearly explains your work will be factored into your grade.\n1. Once you have determined the answer to each question, remember to **enter the answer for each question into the Google Form** - we need both this notebook and the completed Google Form in order to grade your work.\n1. Save this notebook and **push this repository to GitHub when done**.\n1. If the data contains any factual inaccuracies, please ignore them. Consider all the questions in relation to the dataset.\n",
      "metadata": {
        "id": "LMZR4juQaNFy"
      }
    },
    {
      "cell_type": "code",
      "source": "# given code... do not modify\n%matplotlib inline\nimport numpy as np\nimport pandas as pd\nimport matplotlib.pyplot as plt\nfrom IPython.display import Markdown as md\n\ndf = pd.read_csv('data/athlete_events.csv')",
      "metadata": {
        "id": "brZLeG_OaNF3",
        "trusted": true
      },
      "execution_count": 13,
      "outputs": []
    },
    {
      "cell_type": "markdown",
      "source": "## 2. Data source and definitions\nThe data used in this notebook comes from the [120 years of Olympic history: athletes and results](https://www.kaggle.com/datasets/heesoo37/120-years-of-olympic-history-athletes-and-results?resource=download) and represents historical dataset on the modern Olympic Games, including all the Games from Athens 1896 to Rio 2016. \n\nIn general, each row indicate the details of participation of an athelete in a particluar Olympic event. A few important points regarding the fields in this data: \n- It is extremely significant to note that this dataset represents an athlete's perspective. If a country wins a medal in a team sport, its medal count will be equal to the number of team members, rather than just one.\n- `ID` represents a unique id of an athlete. Since a particular athlete may participate multiple times (in different events), there may be multiple rows with the same `ID` indicating the same athelete participated in multiple events.\n- `Medal` represents the medal won by an athlete. Please note it can be null if no medal was won by an athlete at an event. The null rows should not be considered in any questions related to medals won.\n- `Team` indicates the country an athlete represents in an event. Please use this field for any country-related questions.",
      "metadata": {
        "id": "HMdj80gTaNF5"
      }
    },
    {
      "cell_type": "markdown",
      "source": "## 3. Data sample",
      "metadata": {
        "id": "a40-gGBgaNF6"
      }
    },
    {
      "cell_type": "code",
      "source": "# given code... do not modify\n# do not remove duplicates df = df.drop_duplicates()\ndf.head(10)",
      "metadata": {
        "colab": {
          "base_uri": "https://localhost:8080/",
          "height": 599
        },
        "id": "ccvxvcrMaNF6",
        "outputId": "17713606-10c1-4eca-aee9-532dafe4348b",
        "trusted": true
      },
      "execution_count": 2,
      "outputs": [
        {
          "execution_count": 2,
          "output_type": "execute_result",
          "data": {
            "text/plain": "   ID                      Name Sex   Age  Height  Weight            Team  \\\n0   1                 A Dijiang   M  24.0   180.0    80.0           China   \n1   2                  A Lamusi   M  23.0   170.0    60.0           China   \n2   3       Gunnar Nielsen Aaby   M  24.0     NaN     NaN         Denmark   \n3   4      Edgar Lindenau Aabye   M  34.0     NaN     NaN  Denmark/Sweden   \n4   5  Christine Jacoba Aaftink   F  21.0   185.0    82.0     Netherlands   \n5   5  Christine Jacoba Aaftink   F  21.0   185.0    82.0     Netherlands   \n6   5  Christine Jacoba Aaftink   F  25.0   185.0    82.0     Netherlands   \n7   5  Christine Jacoba Aaftink   F  25.0   185.0    82.0     Netherlands   \n8   5  Christine Jacoba Aaftink   F  27.0   185.0    82.0     Netherlands   \n9   5  Christine Jacoba Aaftink   F  27.0   185.0    82.0     Netherlands   \n\n   NOC        Games  Year  Season         City          Sport  \\\n0  CHN  1992 Summer  1992  Summer    Barcelona     Basketball   \n1  CHN  2012 Summer  2012  Summer       London           Judo   \n2  DEN  1920 Summer  1920  Summer    Antwerpen       Football   \n3  DEN  1900 Summer  1900  Summer        Paris     Tug-Of-War   \n4  NED  1988 Winter  1988  Winter      Calgary  Speed Skating   \n5  NED  1988 Winter  1988  Winter      Calgary  Speed Skating   \n6  NED  1992 Winter  1992  Winter  Albertville  Speed Skating   \n7  NED  1992 Winter  1992  Winter  Albertville  Speed Skating   \n8  NED  1994 Winter  1994  Winter  Lillehammer  Speed Skating   \n9  NED  1994 Winter  1994  Winter  Lillehammer  Speed Skating   \n\n                                Event Medal  \n0         Basketball Men's Basketball   NaN  \n1        Judo Men's Extra-Lightweight   NaN  \n2             Football Men's Football   NaN  \n3         Tug-Of-War Men's Tug-Of-War  Gold  \n4    Speed Skating Women's 500 metres   NaN  \n5  Speed Skating Women's 1,000 metres   NaN  \n6    Speed Skating Women's 500 metres   NaN  \n7  Speed Skating Women's 1,000 metres   NaN  \n8    Speed Skating Women's 500 metres   NaN  \n9  Speed Skating Women's 1,000 metres   NaN  ",
            "text/html": "<div>\n<style scoped>\n    .dataframe tbody tr th:only-of-type {\n        vertical-align: middle;\n    }\n\n    .dataframe tbody tr th {\n        vertical-align: top;\n    }\n\n    .dataframe thead th {\n        text-align: right;\n    }\n</style>\n<table border=\"1\" class=\"dataframe\">\n  <thead>\n    <tr style=\"text-align: right;\">\n      <th></th>\n      <th>ID</th>\n      <th>Name</th>\n      <th>Sex</th>\n      <th>Age</th>\n      <th>Height</th>\n      <th>Weight</th>\n      <th>Team</th>\n      <th>NOC</th>\n      <th>Games</th>\n      <th>Year</th>\n      <th>Season</th>\n      <th>City</th>\n      <th>Sport</th>\n      <th>Event</th>\n      <th>Medal</th>\n    </tr>\n  </thead>\n  <tbody>\n    <tr>\n      <th>0</th>\n      <td>1</td>\n      <td>A Dijiang</td>\n      <td>M</td>\n      <td>24.0</td>\n      <td>180.0</td>\n      <td>80.0</td>\n      <td>China</td>\n      <td>CHN</td>\n      <td>1992 Summer</td>\n      <td>1992</td>\n      <td>Summer</td>\n      <td>Barcelona</td>\n      <td>Basketball</td>\n      <td>Basketball Men's Basketball</td>\n      <td>NaN</td>\n    </tr>\n    <tr>\n      <th>1</th>\n      <td>2</td>\n      <td>A Lamusi</td>\n      <td>M</td>\n      <td>23.0</td>\n      <td>170.0</td>\n      <td>60.0</td>\n      <td>China</td>\n      <td>CHN</td>\n      <td>2012 Summer</td>\n      <td>2012</td>\n      <td>Summer</td>\n      <td>London</td>\n      <td>Judo</td>\n      <td>Judo Men's Extra-Lightweight</td>\n      <td>NaN</td>\n    </tr>\n    <tr>\n      <th>2</th>\n      <td>3</td>\n      <td>Gunnar Nielsen Aaby</td>\n      <td>M</td>\n      <td>24.0</td>\n      <td>NaN</td>\n      <td>NaN</td>\n      <td>Denmark</td>\n      <td>DEN</td>\n      <td>1920 Summer</td>\n      <td>1920</td>\n      <td>Summer</td>\n      <td>Antwerpen</td>\n      <td>Football</td>\n      <td>Football Men's Football</td>\n      <td>NaN</td>\n    </tr>\n    <tr>\n      <th>3</th>\n      <td>4</td>\n      <td>Edgar Lindenau Aabye</td>\n      <td>M</td>\n      <td>34.0</td>\n      <td>NaN</td>\n      <td>NaN</td>\n      <td>Denmark/Sweden</td>\n      <td>DEN</td>\n      <td>1900 Summer</td>\n      <td>1900</td>\n      <td>Summer</td>\n      <td>Paris</td>\n      <td>Tug-Of-War</td>\n      <td>Tug-Of-War Men's Tug-Of-War</td>\n      <td>Gold</td>\n    </tr>\n    <tr>\n      <th>4</th>\n      <td>5</td>\n      <td>Christine Jacoba Aaftink</td>\n      <td>F</td>\n      <td>21.0</td>\n      <td>185.0</td>\n      <td>82.0</td>\n      <td>Netherlands</td>\n      <td>NED</td>\n      <td>1988 Winter</td>\n      <td>1988</td>\n      <td>Winter</td>\n      <td>Calgary</td>\n      <td>Speed Skating</td>\n      <td>Speed Skating Women's 500 metres</td>\n      <td>NaN</td>\n    </tr>\n    <tr>\n      <th>5</th>\n      <td>5</td>\n      <td>Christine Jacoba Aaftink</td>\n      <td>F</td>\n      <td>21.0</td>\n      <td>185.0</td>\n      <td>82.0</td>\n      <td>Netherlands</td>\n      <td>NED</td>\n      <td>1988 Winter</td>\n      <td>1988</td>\n      <td>Winter</td>\n      <td>Calgary</td>\n      <td>Speed Skating</td>\n      <td>Speed Skating Women's 1,000 metres</td>\n      <td>NaN</td>\n    </tr>\n    <tr>\n      <th>6</th>\n      <td>5</td>\n      <td>Christine Jacoba Aaftink</td>\n      <td>F</td>\n      <td>25.0</td>\n      <td>185.0</td>\n      <td>82.0</td>\n      <td>Netherlands</td>\n      <td>NED</td>\n      <td>1992 Winter</td>\n      <td>1992</td>\n      <td>Winter</td>\n      <td>Albertville</td>\n      <td>Speed Skating</td>\n      <td>Speed Skating Women's 500 metres</td>\n      <td>NaN</td>\n    </tr>\n    <tr>\n      <th>7</th>\n      <td>5</td>\n      <td>Christine Jacoba Aaftink</td>\n      <td>F</td>\n      <td>25.0</td>\n      <td>185.0</td>\n      <td>82.0</td>\n      <td>Netherlands</td>\n      <td>NED</td>\n      <td>1992 Winter</td>\n      <td>1992</td>\n      <td>Winter</td>\n      <td>Albertville</td>\n      <td>Speed Skating</td>\n      <td>Speed Skating Women's 1,000 metres</td>\n      <td>NaN</td>\n    </tr>\n    <tr>\n      <th>8</th>\n      <td>5</td>\n      <td>Christine Jacoba Aaftink</td>\n      <td>F</td>\n      <td>27.0</td>\n      <td>185.0</td>\n      <td>82.0</td>\n      <td>Netherlands</td>\n      <td>NED</td>\n      <td>1994 Winter</td>\n      <td>1994</td>\n      <td>Winter</td>\n      <td>Lillehammer</td>\n      <td>Speed Skating</td>\n      <td>Speed Skating Women's 500 metres</td>\n      <td>NaN</td>\n    </tr>\n    <tr>\n      <th>9</th>\n      <td>5</td>\n      <td>Christine Jacoba Aaftink</td>\n      <td>F</td>\n      <td>27.0</td>\n      <td>185.0</td>\n      <td>82.0</td>\n      <td>Netherlands</td>\n      <td>NED</td>\n      <td>1994 Winter</td>\n      <td>1994</td>\n      <td>Winter</td>\n      <td>Lillehammer</td>\n      <td>Speed Skating</td>\n      <td>Speed Skating Women's 1,000 metres</td>\n      <td>NaN</td>\n    </tr>\n  </tbody>\n</table>\n</div>"
          },
          "metadata": {}
        }
      ]
    },
    {
      "cell_type": "markdown",
      "source": "# Your Work\nAdd all the code and documentation you need to answer the exam questions below this block.  Keep your notebook organized so it is obvious which question you are answering (no need to repeat the entire question) and the order of answers follows the order of the questions in the exam.\n",
      "metadata": {
        "id": "9NDvDhG2aNF8"
      }
    },
    {
      "cell_type": "markdown",
      "source": "Q1. How many rows are there in the original DataFrame ?",
      "metadata": {
        "id": "_bAah8XGaNF8"
      }
    },
    {
      "cell_type": "markdown",
      "source": "##### Use the `shape` function and the index 0 which represents rows to get the number of rows in the original DataFrame",
      "metadata": {
        "id": "bs5vvxg2aNF9"
      }
    },
    {
      "cell_type": "code",
      "source": "df.shape[0]",
      "metadata": {
        "id": "bs5vvxg2aNF9",
        "trusted": true
      },
      "execution_count": 3,
      "outputs": [
        {
          "execution_count": 3,
          "output_type": "execute_result",
          "data": {
            "text/plain": "271116"
          },
          "metadata": {}
        }
      ]
    },
    {
      "cell_type": "markdown",
      "source": "Q2. How many unique events have been held in Summer and Winter olympics over all the years? ",
      "metadata": {
        "id": "9oHqKxv2aNF9"
      }
    },
    {
      "cell_type": "markdown",
      "source": "##### Prove that there are only \"Summer\" and \"Winter\" in the `Season` column",
      "metadata": {
        "id": "LNicSW2waNF9"
      }
    },
    {
      "cell_type": "code",
      "source": "df['Season'].unique()",
      "metadata": {
        "id": "LNicSW2waNF9",
        "trusted": true
      },
      "execution_count": 4,
      "outputs": [
        {
          "execution_count": 4,
          "output_type": "execute_result",
          "data": {
            "text/plain": "array(['Summer', 'Winter'], dtype=object)"
          },
          "metadata": {}
        }
      ]
    },
    {
      "cell_type": "markdown",
      "source": "##### Count the number of unique events",
      "metadata": {
        "id": "LNicSW2waNF9"
      }
    },
    {
      "cell_type": "code",
      "source": "events = df['Event'].unique()\nlen(events)",
      "metadata": {
        "id": "LNicSW2waNF9",
        "trusted": true
      },
      "execution_count": 131,
      "outputs": [
        {
          "execution_count": 131,
          "output_type": "execute_result",
          "data": {
            "text/plain": "765"
          },
          "metadata": {}
        }
      ]
    },
    {
      "cell_type": "markdown",
      "source": "Q3. Which command would create a pandas DataFrame that contains the data for medal winners?",
      "metadata": {
        "id": "m_f5B859aNF-"
      }
    },
    {
      "cell_type": "markdown",
      "source": "##### Use the `notnull` function on the `Medal` column to remove \"NA\" and get medal winners",
      "metadata": {
        "id": "ur_UHSXaaNF-"
      }
    },
    {
      "cell_type": "code",
      "source": "df_medals = df[df['Medal'].notnull()]",
      "metadata": {
        "id": "ur_UHSXaaNF-",
        "trusted": true
      },
      "execution_count": 6,
      "outputs": []
    },
    {
      "cell_type": "markdown",
      "source": "Q3.1 Assuming the variable « df_medals » refers to a DataFrame containing only those rows from the original data set relate to medals winner, with no other modifications, which of the following commands would create a data structure including each Olympics games and the minimum and maximum age of olympic medal winner?",
      "metadata": {
        "id": "ctH_Hb6LaNF-"
      }
    },
    {
      "cell_type": "markdown",
      "source": "##### ",
      "metadata": {
        "id": "2cvbUAeBaNF_"
      }
    },
    {
      "cell_type": "markdown",
      "source": "##### Use the `describe` function to get a summary of statistical information about `df_medals`",
      "metadata": {
        "id": "2cvbUAeBaNF_"
      }
    },
    {
      "cell_type": "code",
      "source": "df_medals.groupby('Games')['Age'].describe()",
      "metadata": {
        "id": "2cvbUAeBaNF_",
        "trusted": true
      },
      "execution_count": 7,
      "outputs": [
        {
          "execution_count": 7,
          "output_type": "execute_result",
          "data": {
            "text/plain": "              count       mean       std   min   25%   50%    75%   max\nGames                                                                  \n1896 Summer   101.0  23.217822  4.283933  10.0  20.0  23.0  26.00  36.0\n1900 Summer   468.0  28.433761  8.999280  15.0  22.0  26.0  33.00  71.0\n1904 Summer   422.0  26.485782  9.374172  14.0  21.0  24.0  28.75  68.0\n1906 Summer   307.0  26.931596  7.936341  14.0  22.0  25.0  29.00  54.0\n1908 Summer   765.0  27.739869  7.871617  16.0  22.0  26.0  31.00  60.0\n1912 Summer   934.0  27.506424  7.738869  15.0  22.0  26.0  31.00  64.0\n1920 Summer  1178.0  29.669779  8.311509  13.0  24.0  28.0  35.00  72.0\n1924 Summer   781.0  27.793854  7.649351  14.0  22.0  26.0  32.00  56.0\n1924 Winter   120.0  30.533333  8.703263  18.0  25.0  28.0  33.25  58.0\n1928 Summer   712.0  26.404494  8.079902  11.0  21.0  24.0  29.00  63.0\n1928 Winter    88.0  25.454545  5.741379  15.0  22.0  25.0  28.25  44.0\n1932 Summer   635.0  26.296063  7.538371  14.0  21.0  24.0  29.00  68.0\n1932 Winter    92.0  26.423913  6.056934  19.0  22.0  25.0  29.00  49.0\n1936 Summer   916.0  26.056769  6.491781  12.0  22.0  25.0  29.00  72.0\n1936 Winter   108.0  25.388889  4.577134  15.0  23.0  25.0  28.00  38.0\n1948 Summer   836.0  28.311005  7.729804  16.0  23.0  27.0  32.00  73.0\n1948 Winter   135.0  26.985185  5.326623  17.0  23.5  27.0  29.00  49.0\n1952 Summer   896.0  26.828125  6.806629  14.0  22.0  25.0  30.00  59.0\n1952 Winter   136.0  26.463235  5.110495  16.0  23.0  25.0  29.00  46.0\n1956 Summer   880.0  25.703409  5.973738  14.0  22.0  25.0  28.00  54.0\n1956 Winter   150.0  25.860000  4.571622  15.0  23.0  25.0  28.00  46.0\n1960 Summer   908.0  25.025330  5.947994  13.0  21.0  24.0  28.00  55.0\n1960 Winter   147.0  25.387755  4.236904  16.0  22.0  26.0  28.00  37.0\n1964 Summer  1027.0  25.190847  5.307741  14.0  22.0  25.0  27.00  60.0\n1964 Winter   186.0  25.532258  4.321102  14.0  23.0  25.0  28.00  36.0\n1968 Summer  1055.0  24.846445  5.717672  14.0  21.0  24.0  28.00  66.0\n1968 Winter   199.0  25.638191  4.293494  16.0  23.0  25.0  28.00  40.0\n1972 Summer  1214.0  24.818781  5.442053  13.0  21.0  24.0  27.00  60.0\n1972 Winter   199.0  25.206030  4.637655  15.0  22.0  25.0  28.00  38.0\n1976 Summer  1320.0  24.227273  4.874141  13.0  21.0  24.0  27.00  61.0\n1976 Winter   211.0  25.383886  4.046106  15.0  22.5  25.0  28.00  38.0\n1980 Summer  1384.0  24.281069  4.814541  14.0  21.0  24.0  27.00  57.0\n1980 Winter   218.0  24.454128  4.278357  15.0  21.0  24.0  27.00  39.0\n1984 Summer  1475.0  24.241356  4.731178  14.0  21.0  24.0  27.00  52.0\n1984 Winter   222.0  24.351351  3.385218  17.0  22.0  24.0  26.75  35.0\n1988 Summer  1582.0  24.432364  4.593278  14.0  22.0  24.0  27.00  56.0\n1988 Winter   263.0  24.904943  3.411153  16.0  23.0  24.0  27.00  39.0\n1992 Summer  1712.0  24.685164  4.824040  13.0  22.0  24.0  27.00  58.0\n1992 Winter   318.0  24.578616  3.897558  16.0  22.0  24.0  27.00  41.0\n1994 Winter   331.0  25.247734  4.199454  13.0  22.0  25.0  28.00  43.0\n1996 Summer  1842.0  25.433225  4.752785  13.0  22.0  25.0  28.00  56.0\n1998 Winter   440.0  26.050000  4.626580  15.0  23.0  26.0  29.00  50.0\n2000 Summer  2004.0  26.110279  5.094054  15.0  23.0  26.0  29.00  47.0\n2002 Winter   478.0  26.962343  5.139831  15.0  23.0  27.0  30.00  45.0\n2004 Summer  2001.0  26.157421  5.176264  15.0  22.0  26.0  29.00  50.0\n2006 Winter   526.0  27.338403  4.972642  15.0  24.0  28.0  31.00  49.0\n2008 Summer  2048.0  26.046875  5.202471  15.0  23.0  25.0  29.00  61.0\n2010 Winter   520.0  26.723077  4.959202  17.0  23.0  26.0  30.00  46.0\n2012 Summer  1941.0  26.066461  4.949978  15.0  23.0  26.0  29.00  56.0\n2014 Winter   597.0  26.644891  4.818992  15.0  23.0  26.0  29.00  43.0\n2016 Summer  2023.0  26.325260  5.149783  15.0  23.0  26.0  29.00  58.0",
            "text/html": "<div>\n<style scoped>\n    .dataframe tbody tr th:only-of-type {\n        vertical-align: middle;\n    }\n\n    .dataframe tbody tr th {\n        vertical-align: top;\n    }\n\n    .dataframe thead th {\n        text-align: right;\n    }\n</style>\n<table border=\"1\" class=\"dataframe\">\n  <thead>\n    <tr style=\"text-align: right;\">\n      <th></th>\n      <th>count</th>\n      <th>mean</th>\n      <th>std</th>\n      <th>min</th>\n      <th>25%</th>\n      <th>50%</th>\n      <th>75%</th>\n      <th>max</th>\n    </tr>\n    <tr>\n      <th>Games</th>\n      <th></th>\n      <th></th>\n      <th></th>\n      <th></th>\n      <th></th>\n      <th></th>\n      <th></th>\n      <th></th>\n    </tr>\n  </thead>\n  <tbody>\n    <tr>\n      <th>1896 Summer</th>\n      <td>101.0</td>\n      <td>23.217822</td>\n      <td>4.283933</td>\n      <td>10.0</td>\n      <td>20.0</td>\n      <td>23.0</td>\n      <td>26.00</td>\n      <td>36.0</td>\n    </tr>\n    <tr>\n      <th>1900 Summer</th>\n      <td>468.0</td>\n      <td>28.433761</td>\n      <td>8.999280</td>\n      <td>15.0</td>\n      <td>22.0</td>\n      <td>26.0</td>\n      <td>33.00</td>\n      <td>71.0</td>\n    </tr>\n    <tr>\n      <th>1904 Summer</th>\n      <td>422.0</td>\n      <td>26.485782</td>\n      <td>9.374172</td>\n      <td>14.0</td>\n      <td>21.0</td>\n      <td>24.0</td>\n      <td>28.75</td>\n      <td>68.0</td>\n    </tr>\n    <tr>\n      <th>1906 Summer</th>\n      <td>307.0</td>\n      <td>26.931596</td>\n      <td>7.936341</td>\n      <td>14.0</td>\n      <td>22.0</td>\n      <td>25.0</td>\n      <td>29.00</td>\n      <td>54.0</td>\n    </tr>\n    <tr>\n      <th>1908 Summer</th>\n      <td>765.0</td>\n      <td>27.739869</td>\n      <td>7.871617</td>\n      <td>16.0</td>\n      <td>22.0</td>\n      <td>26.0</td>\n      <td>31.00</td>\n      <td>60.0</td>\n    </tr>\n    <tr>\n      <th>1912 Summer</th>\n      <td>934.0</td>\n      <td>27.506424</td>\n      <td>7.738869</td>\n      <td>15.0</td>\n      <td>22.0</td>\n      <td>26.0</td>\n      <td>31.00</td>\n      <td>64.0</td>\n    </tr>\n    <tr>\n      <th>1920 Summer</th>\n      <td>1178.0</td>\n      <td>29.669779</td>\n      <td>8.311509</td>\n      <td>13.0</td>\n      <td>24.0</td>\n      <td>28.0</td>\n      <td>35.00</td>\n      <td>72.0</td>\n    </tr>\n    <tr>\n      <th>1924 Summer</th>\n      <td>781.0</td>\n      <td>27.793854</td>\n      <td>7.649351</td>\n      <td>14.0</td>\n      <td>22.0</td>\n      <td>26.0</td>\n      <td>32.00</td>\n      <td>56.0</td>\n    </tr>\n    <tr>\n      <th>1924 Winter</th>\n      <td>120.0</td>\n      <td>30.533333</td>\n      <td>8.703263</td>\n      <td>18.0</td>\n      <td>25.0</td>\n      <td>28.0</td>\n      <td>33.25</td>\n      <td>58.0</td>\n    </tr>\n    <tr>\n      <th>1928 Summer</th>\n      <td>712.0</td>\n      <td>26.404494</td>\n      <td>8.079902</td>\n      <td>11.0</td>\n      <td>21.0</td>\n      <td>24.0</td>\n      <td>29.00</td>\n      <td>63.0</td>\n    </tr>\n    <tr>\n      <th>1928 Winter</th>\n      <td>88.0</td>\n      <td>25.454545</td>\n      <td>5.741379</td>\n      <td>15.0</td>\n      <td>22.0</td>\n      <td>25.0</td>\n      <td>28.25</td>\n      <td>44.0</td>\n    </tr>\n    <tr>\n      <th>1932 Summer</th>\n      <td>635.0</td>\n      <td>26.296063</td>\n      <td>7.538371</td>\n      <td>14.0</td>\n      <td>21.0</td>\n      <td>24.0</td>\n      <td>29.00</td>\n      <td>68.0</td>\n    </tr>\n    <tr>\n      <th>1932 Winter</th>\n      <td>92.0</td>\n      <td>26.423913</td>\n      <td>6.056934</td>\n      <td>19.0</td>\n      <td>22.0</td>\n      <td>25.0</td>\n      <td>29.00</td>\n      <td>49.0</td>\n    </tr>\n    <tr>\n      <th>1936 Summer</th>\n      <td>916.0</td>\n      <td>26.056769</td>\n      <td>6.491781</td>\n      <td>12.0</td>\n      <td>22.0</td>\n      <td>25.0</td>\n      <td>29.00</td>\n      <td>72.0</td>\n    </tr>\n    <tr>\n      <th>1936 Winter</th>\n      <td>108.0</td>\n      <td>25.388889</td>\n      <td>4.577134</td>\n      <td>15.0</td>\n      <td>23.0</td>\n      <td>25.0</td>\n      <td>28.00</td>\n      <td>38.0</td>\n    </tr>\n    <tr>\n      <th>1948 Summer</th>\n      <td>836.0</td>\n      <td>28.311005</td>\n      <td>7.729804</td>\n      <td>16.0</td>\n      <td>23.0</td>\n      <td>27.0</td>\n      <td>32.00</td>\n      <td>73.0</td>\n    </tr>\n    <tr>\n      <th>1948 Winter</th>\n      <td>135.0</td>\n      <td>26.985185</td>\n      <td>5.326623</td>\n      <td>17.0</td>\n      <td>23.5</td>\n      <td>27.0</td>\n      <td>29.00</td>\n      <td>49.0</td>\n    </tr>\n    <tr>\n      <th>1952 Summer</th>\n      <td>896.0</td>\n      <td>26.828125</td>\n      <td>6.806629</td>\n      <td>14.0</td>\n      <td>22.0</td>\n      <td>25.0</td>\n      <td>30.00</td>\n      <td>59.0</td>\n    </tr>\n    <tr>\n      <th>1952 Winter</th>\n      <td>136.0</td>\n      <td>26.463235</td>\n      <td>5.110495</td>\n      <td>16.0</td>\n      <td>23.0</td>\n      <td>25.0</td>\n      <td>29.00</td>\n      <td>46.0</td>\n    </tr>\n    <tr>\n      <th>1956 Summer</th>\n      <td>880.0</td>\n      <td>25.703409</td>\n      <td>5.973738</td>\n      <td>14.0</td>\n      <td>22.0</td>\n      <td>25.0</td>\n      <td>28.00</td>\n      <td>54.0</td>\n    </tr>\n    <tr>\n      <th>1956 Winter</th>\n      <td>150.0</td>\n      <td>25.860000</td>\n      <td>4.571622</td>\n      <td>15.0</td>\n      <td>23.0</td>\n      <td>25.0</td>\n      <td>28.00</td>\n      <td>46.0</td>\n    </tr>\n    <tr>\n      <th>1960 Summer</th>\n      <td>908.0</td>\n      <td>25.025330</td>\n      <td>5.947994</td>\n      <td>13.0</td>\n      <td>21.0</td>\n      <td>24.0</td>\n      <td>28.00</td>\n      <td>55.0</td>\n    </tr>\n    <tr>\n      <th>1960 Winter</th>\n      <td>147.0</td>\n      <td>25.387755</td>\n      <td>4.236904</td>\n      <td>16.0</td>\n      <td>22.0</td>\n      <td>26.0</td>\n      <td>28.00</td>\n      <td>37.0</td>\n    </tr>\n    <tr>\n      <th>1964 Summer</th>\n      <td>1027.0</td>\n      <td>25.190847</td>\n      <td>5.307741</td>\n      <td>14.0</td>\n      <td>22.0</td>\n      <td>25.0</td>\n      <td>27.00</td>\n      <td>60.0</td>\n    </tr>\n    <tr>\n      <th>1964 Winter</th>\n      <td>186.0</td>\n      <td>25.532258</td>\n      <td>4.321102</td>\n      <td>14.0</td>\n      <td>23.0</td>\n      <td>25.0</td>\n      <td>28.00</td>\n      <td>36.0</td>\n    </tr>\n    <tr>\n      <th>1968 Summer</th>\n      <td>1055.0</td>\n      <td>24.846445</td>\n      <td>5.717672</td>\n      <td>14.0</td>\n      <td>21.0</td>\n      <td>24.0</td>\n      <td>28.00</td>\n      <td>66.0</td>\n    </tr>\n    <tr>\n      <th>1968 Winter</th>\n      <td>199.0</td>\n      <td>25.638191</td>\n      <td>4.293494</td>\n      <td>16.0</td>\n      <td>23.0</td>\n      <td>25.0</td>\n      <td>28.00</td>\n      <td>40.0</td>\n    </tr>\n    <tr>\n      <th>1972 Summer</th>\n      <td>1214.0</td>\n      <td>24.818781</td>\n      <td>5.442053</td>\n      <td>13.0</td>\n      <td>21.0</td>\n      <td>24.0</td>\n      <td>27.00</td>\n      <td>60.0</td>\n    </tr>\n    <tr>\n      <th>1972 Winter</th>\n      <td>199.0</td>\n      <td>25.206030</td>\n      <td>4.637655</td>\n      <td>15.0</td>\n      <td>22.0</td>\n      <td>25.0</td>\n      <td>28.00</td>\n      <td>38.0</td>\n    </tr>\n    <tr>\n      <th>1976 Summer</th>\n      <td>1320.0</td>\n      <td>24.227273</td>\n      <td>4.874141</td>\n      <td>13.0</td>\n      <td>21.0</td>\n      <td>24.0</td>\n      <td>27.00</td>\n      <td>61.0</td>\n    </tr>\n    <tr>\n      <th>1976 Winter</th>\n      <td>211.0</td>\n      <td>25.383886</td>\n      <td>4.046106</td>\n      <td>15.0</td>\n      <td>22.5</td>\n      <td>25.0</td>\n      <td>28.00</td>\n      <td>38.0</td>\n    </tr>\n    <tr>\n      <th>1980 Summer</th>\n      <td>1384.0</td>\n      <td>24.281069</td>\n      <td>4.814541</td>\n      <td>14.0</td>\n      <td>21.0</td>\n      <td>24.0</td>\n      <td>27.00</td>\n      <td>57.0</td>\n    </tr>\n    <tr>\n      <th>1980 Winter</th>\n      <td>218.0</td>\n      <td>24.454128</td>\n      <td>4.278357</td>\n      <td>15.0</td>\n      <td>21.0</td>\n      <td>24.0</td>\n      <td>27.00</td>\n      <td>39.0</td>\n    </tr>\n    <tr>\n      <th>1984 Summer</th>\n      <td>1475.0</td>\n      <td>24.241356</td>\n      <td>4.731178</td>\n      <td>14.0</td>\n      <td>21.0</td>\n      <td>24.0</td>\n      <td>27.00</td>\n      <td>52.0</td>\n    </tr>\n    <tr>\n      <th>1984 Winter</th>\n      <td>222.0</td>\n      <td>24.351351</td>\n      <td>3.385218</td>\n      <td>17.0</td>\n      <td>22.0</td>\n      <td>24.0</td>\n      <td>26.75</td>\n      <td>35.0</td>\n    </tr>\n    <tr>\n      <th>1988 Summer</th>\n      <td>1582.0</td>\n      <td>24.432364</td>\n      <td>4.593278</td>\n      <td>14.0</td>\n      <td>22.0</td>\n      <td>24.0</td>\n      <td>27.00</td>\n      <td>56.0</td>\n    </tr>\n    <tr>\n      <th>1988 Winter</th>\n      <td>263.0</td>\n      <td>24.904943</td>\n      <td>3.411153</td>\n      <td>16.0</td>\n      <td>23.0</td>\n      <td>24.0</td>\n      <td>27.00</td>\n      <td>39.0</td>\n    </tr>\n    <tr>\n      <th>1992 Summer</th>\n      <td>1712.0</td>\n      <td>24.685164</td>\n      <td>4.824040</td>\n      <td>13.0</td>\n      <td>22.0</td>\n      <td>24.0</td>\n      <td>27.00</td>\n      <td>58.0</td>\n    </tr>\n    <tr>\n      <th>1992 Winter</th>\n      <td>318.0</td>\n      <td>24.578616</td>\n      <td>3.897558</td>\n      <td>16.0</td>\n      <td>22.0</td>\n      <td>24.0</td>\n      <td>27.00</td>\n      <td>41.0</td>\n    </tr>\n    <tr>\n      <th>1994 Winter</th>\n      <td>331.0</td>\n      <td>25.247734</td>\n      <td>4.199454</td>\n      <td>13.0</td>\n      <td>22.0</td>\n      <td>25.0</td>\n      <td>28.00</td>\n      <td>43.0</td>\n    </tr>\n    <tr>\n      <th>1996 Summer</th>\n      <td>1842.0</td>\n      <td>25.433225</td>\n      <td>4.752785</td>\n      <td>13.0</td>\n      <td>22.0</td>\n      <td>25.0</td>\n      <td>28.00</td>\n      <td>56.0</td>\n    </tr>\n    <tr>\n      <th>1998 Winter</th>\n      <td>440.0</td>\n      <td>26.050000</td>\n      <td>4.626580</td>\n      <td>15.0</td>\n      <td>23.0</td>\n      <td>26.0</td>\n      <td>29.00</td>\n      <td>50.0</td>\n    </tr>\n    <tr>\n      <th>2000 Summer</th>\n      <td>2004.0</td>\n      <td>26.110279</td>\n      <td>5.094054</td>\n      <td>15.0</td>\n      <td>23.0</td>\n      <td>26.0</td>\n      <td>29.00</td>\n      <td>47.0</td>\n    </tr>\n    <tr>\n      <th>2002 Winter</th>\n      <td>478.0</td>\n      <td>26.962343</td>\n      <td>5.139831</td>\n      <td>15.0</td>\n      <td>23.0</td>\n      <td>27.0</td>\n      <td>30.00</td>\n      <td>45.0</td>\n    </tr>\n    <tr>\n      <th>2004 Summer</th>\n      <td>2001.0</td>\n      <td>26.157421</td>\n      <td>5.176264</td>\n      <td>15.0</td>\n      <td>22.0</td>\n      <td>26.0</td>\n      <td>29.00</td>\n      <td>50.0</td>\n    </tr>\n    <tr>\n      <th>2006 Winter</th>\n      <td>526.0</td>\n      <td>27.338403</td>\n      <td>4.972642</td>\n      <td>15.0</td>\n      <td>24.0</td>\n      <td>28.0</td>\n      <td>31.00</td>\n      <td>49.0</td>\n    </tr>\n    <tr>\n      <th>2008 Summer</th>\n      <td>2048.0</td>\n      <td>26.046875</td>\n      <td>5.202471</td>\n      <td>15.0</td>\n      <td>23.0</td>\n      <td>25.0</td>\n      <td>29.00</td>\n      <td>61.0</td>\n    </tr>\n    <tr>\n      <th>2010 Winter</th>\n      <td>520.0</td>\n      <td>26.723077</td>\n      <td>4.959202</td>\n      <td>17.0</td>\n      <td>23.0</td>\n      <td>26.0</td>\n      <td>30.00</td>\n      <td>46.0</td>\n    </tr>\n    <tr>\n      <th>2012 Summer</th>\n      <td>1941.0</td>\n      <td>26.066461</td>\n      <td>4.949978</td>\n      <td>15.0</td>\n      <td>23.0</td>\n      <td>26.0</td>\n      <td>29.00</td>\n      <td>56.0</td>\n    </tr>\n    <tr>\n      <th>2014 Winter</th>\n      <td>597.0</td>\n      <td>26.644891</td>\n      <td>4.818992</td>\n      <td>15.0</td>\n      <td>23.0</td>\n      <td>26.0</td>\n      <td>29.00</td>\n      <td>43.0</td>\n    </tr>\n    <tr>\n      <th>2016 Summer</th>\n      <td>2023.0</td>\n      <td>26.325260</td>\n      <td>5.149783</td>\n      <td>15.0</td>\n      <td>23.0</td>\n      <td>26.0</td>\n      <td>29.00</td>\n      <td>58.0</td>\n    </tr>\n  </tbody>\n</table>\n</div>"
          },
          "metadata": {}
        }
      ]
    },
    {
      "cell_type": "markdown",
      "source": "Q4. How many times has Usain St. Leo Bolt won a gold medal?",
      "metadata": {
        "id": "pT0Eyl5baNF_"
      }
    },
    {
      "cell_type": "markdown",
      "source": "##### Filter `df_medals` to find the rows where the athlete's name is 'Usain St. Leo Bolt' and the medal won is 'Gold', and return the number of rows using the `shape` function with index 0",
      "metadata": {
        "id": "66cazR0Nh-F_"
      }
    },
    {
      "cell_type": "code",
      "source": "df_medals[(df_medals['Name'] == 'Usain St. Leo Bolt') & (df_medals['Medal'] == 'Gold')].shape[0]",
      "metadata": {
        "id": "nHoO1bbxaNGA",
        "trusted": true
      },
      "execution_count": 8,
      "outputs": [
        {
          "execution_count": 8,
          "output_type": "execute_result",
          "data": {
            "text/plain": "8"
          },
          "metadata": {}
        }
      ]
    },
    {
      "cell_type": "markdown",
      "source": "Q5. Which country has participated most often in an Olympic event?",
      "metadata": {
        "id": "BtNTaFkJaNGA"
      }
    },
    {
      "cell_type": "markdown",
      "source": "##### The first line creates a Pandas Series object called country_counts, which contains the times of participation in Olympic events of each country. The second line retrieve the name of the country that participated most often by calling the index 0, or the first item, since value_counts() sorts the counts in descending order",
      "metadata": {
        "id": "66cazR0Nh-F_"
      }
    },
    {
      "cell_type": "code",
      "source": "country_counts = df['Team'].value_counts()\ncountry_counts.index[0]",
      "metadata": {
        "id": "66cazR0Nh-F_",
        "trusted": true
      },
      "execution_count": 91,
      "outputs": [
        {
          "execution_count": 91,
          "output_type": "execute_result",
          "data": {
            "text/plain": "'United States'"
          },
          "metadata": {}
        }
      ]
    },
    {
      "cell_type": "markdown",
      "source": "Q6. Which athlete has participated in the most Olympic events without ever winning a medal?",
      "metadata": {
        "id": "BlOqRl6FaNGB"
      }
    },
    {
      "cell_type": "markdown",
      "source": "##### First, I sort the athletes in `df` by the number of events they have participated in (in descending order). Second, I loop through each athlete's name and create a new DataFrame `medals_won` containing all the rows in `df` where that athlete won a medal. The first name with the length of `medals_won` equal to 0 is the athlete who has participated the most without winning a medal, so I break the loop after the first athlete without a medal is found",
      "metadata": {
        "id": "FeWOIcA2aNGB"
      }
    },
    {
      "cell_type": "code",
      "source": "player = df['Name'].value_counts().sort_values(ascending=False)\nfor name in player.index:\n    medals_won = df[(df['Name'] == name) & (df['Medal'].notnull())]\n    if len(medals_won) == 0:\n        print(name)\n        break",
      "metadata": {
        "id": "FeWOIcA2aNGB",
        "trusted": true
      },
      "execution_count": 124,
      "outputs": [
        {
          "name": "stdout",
          "text": "Joseph \"Josy\" Stoffel\n",
          "output_type": "stream"
        }
      ]
    },
    {
      "cell_type": "markdown",
      "source": "Q7. Find the average age of female athletes at the 1998 Winter Olympics?",
      "metadata": {
        "id": "LXbcurKeaNGD"
      }
    },
    {
      "cell_type": "markdown",
      "source": "##### Filter `df` to select rows about female athletes at the 1998 Winter Olympics and then take the mean of the `Age` column",
      "metadata": {
        "id": "W3Cuh8whaNGE"
      }
    },
    {
      "cell_type": "code",
      "source": "df[(df['Year'] == 1998) & (df['Season'] == 'Winter') & (df['Sex'] == 'F')]['Age'].mean()",
      "metadata": {
        "id": "IabqH2NmaNGE",
        "trusted": true
      },
      "execution_count": 94,
      "outputs": [
        {
          "execution_count": 94,
          "output_type": "execute_result",
          "data": {
            "text/plain": "24.353323699421967"
          },
          "metadata": {}
        }
      ]
    },
    {
      "cell_type": "markdown",
      "source": "Q8. How many athletes have competed in both the summer and winter olympics?",
      "metadata": {
        "id": "yR3qZ-jIaNGE"
      }
    },
    {
      "cell_type": "markdown",
      "source": "##### First, I select all the rows from `df` where the `Season` column is equal to 'Summer' and 'Winter' and select only the unique `ID` values. Second, I find the intersection of the two sets of unique athletes using the '&' operator. Finally, I find the number of athletes competing in both the summer and winter olympics by finding the length of `both_athletes`",
      "metadata": {
        "id": "W3Cuh8whaNGE"
      }
    },
    {
      "cell_type": "code",
      "source": "summer_athletes = df[df['Season'] == 'Summer']['ID'].unique()\nwinter_athletes = df[df['Season'] == 'Winter']['ID'].unique()\nboth_athletes = set(summer_athletes) & set(winter_athletes)\nlen(both_athletes)",
      "metadata": {
        "id": "W3Cuh8whaNGE",
        "trusted": true
      },
      "execution_count": 128,
      "outputs": [
        {
          "execution_count": 128,
          "output_type": "execute_result",
          "data": {
            "text/plain": "163"
          },
          "metadata": {}
        }
      ]
    },
    {
      "cell_type": "markdown",
      "source": "Q9. How many gold medals did the United States win at the 2004 Summer Olympics? Note: For team sports, each team member's individual medal is counted as one, e.g. a team of 4 that wins a Gold medal for the US would add 4 medals to the US medal count, not just 1.",
      "metadata": {
        "id": "vjR1_0LqaNGF"
      }
    },
    {
      "cell_type": "markdown",
      "source": "##### Create a new dataframe called `df_usa_2004` that contains all the rows where the year is 2004, the team is the United States, and the medal won is Gold using the '&' operator, and return the number of its rows by finding its length",
      "metadata": {
        "id": "W3Cuh8whaNGE"
      }
    },
    {
      "cell_type": "code",
      "source": "df_usa_2004 = df[(df['Year'] == 2004) & (df['Team'] == 'United States') & (df['Medal'] == 'Gold')]\nlen(df_usa_2004)",
      "metadata": {
        "id": "ZnQ_XnXyaNGF",
        "trusted": true
      },
      "execution_count": 96,
      "outputs": [
        {
          "execution_count": 96,
          "output_type": "execute_result",
          "data": {
            "text/plain": "115"
          },
          "metadata": {}
        }
      ]
    },
    {
      "cell_type": "markdown",
      "source": "Q10. Which winter Olympics have produced the least medals for the United States?",
      "metadata": {
        "id": "6Rdd3pjfaNGG"
      }
    },
    {
      "cell_type": "markdown",
      "source": "##### Filtering `df_medals` for rows where the `Season` column is 'Winter' and the `Team` column is 'United States'. Then, group the rows by the `Year` column, and count the number of medals won by the US in each year. Finally, sort the counts in ascending order and select the year with the smallest number of medals using index[0]",
      "metadata": {
        "id": "H9HKBc1UmRWN"
      }
    },
    {
      "cell_type": "code",
      "source": "df_winter_usa = df_medals[(df_medals['Season'] == 'Winter') & (df_medals['Team'] == 'United States')]\ndf_winter_usa.groupby('Year')['Medal'].count().sort_values(ascending=True).index[0]",
      "metadata": {
        "id": "3ZnV3YdpaNGG",
        "trusted": true
      },
      "execution_count": 97,
      "outputs": [
        {
          "execution_count": 97,
          "output_type": "execute_result",
          "data": {
            "text/plain": "1928"
          },
          "metadata": {}
        }
      ]
    },
    {
      "cell_type": "markdown",
      "source": "Q11. What is the name of the Sport (Event) which won the most gold medals for Team USA in Olympics history? ",
      "metadata": {
        "id": "bk-ujkEwaNGG"
      }
    },
    {
      "cell_type": "markdown",
      "source": "##### Select rows from `df` where the `Team` column is 'United States' and the `Medal` column is 'Gold'. Then, count the number of times each unique value occurs in the `Event` column and sort them in descending order. Finally, select the name of the event winning the most gold medals for Team USA in Olympics history using index[0]",
      "metadata": {
        "id": "H9HKBc1UmRWN"
      }
    },
    {
      "cell_type": "code",
      "source": "usa_gold = df[(df['Team'] == 'United States') & (df['Medal'] == 'Gold')]\nusa_gold['Event'].value_counts().sort_values(ascending=False).index[0]",
      "metadata": {
        "id": "H9HKBc1UmRWN",
        "trusted": true
      },
      "execution_count": 98,
      "outputs": [
        {
          "execution_count": 98,
          "output_type": "execute_result",
          "data": {
            "text/plain": "\"Basketball Men's Basketball\""
          },
          "metadata": {}
        }
      ]
    },
    {
      "cell_type": "markdown",
      "source": "Q12. From 2000-2021, which athlete won the most gold medals? (including both Summer and Winter)? ",
      "metadata": {
        "id": "WXwnB-RSaNGH"
      }
    },
    {
      "cell_type": "markdown",
      "source": "##### Filters `df_medals` to only include data from the years 2000 to 2021. Then, further filter the data to only include rows where the medal won is Gold. Finally, count the number of gold medals won by each athlete and return the name of the athlete with the most gold medals",
      "metadata": {
        "id": "GuzsyxgzaNGH"
      }
    },
    {
      "cell_type": "code",
      "source": "df_filtered = df_medals[(df_medals['Year'] >= 2000) & (df_medals['Year'] <= 2021)]\ndf_filtered[df_filtered['Medal'] == 'Gold']['Name'].value_counts().head(1)",
      "metadata": {
        "id": "GuzsyxgzaNGH",
        "trusted": true
      },
      "execution_count": 99,
      "outputs": [
        {
          "execution_count": 99,
          "output_type": "execute_result",
          "data": {
            "text/plain": "Michael Fred Phelps, II    23\nName: Name, dtype: int64"
          },
          "metadata": {}
        }
      ]
    },
    {
      "cell_type": "markdown",
      "source": "Q13. What is the total number of Gold medal won by India till now (including both Summer and Winter)?",
      "metadata": {
        "id": "7uVp89s4aNGH"
      }
    },
    {
      "cell_type": "markdown",
      "source": "##### First, create a new dataframe `india_gold` containing only rows where the team is 'India' and the medal is 'Gold'. Then, count the number of rows in `india_gold` on the 'Medal' column, which gives the total number of gold medals won by India",
      "metadata": {
        "id": "vkl-vuMDaNGI"
      }
    },
    {
      "cell_type": "code",
      "source": "india_gold = df_medals[(df_medals['Team'] == 'India') & (df_medals['Medal'] == 'Gold')]\nindia_gold['Medal'].count()",
      "metadata": {
        "id": "sTKGFWwVaNGI",
        "trusted": true
      },
      "execution_count": 100,
      "outputs": [
        {
          "execution_count": 100,
          "output_type": "execute_result",
          "data": {
            "text/plain": "138"
          },
          "metadata": {}
        }
      ]
    },
    {
      "cell_type": "markdown",
      "source": "Q14. Which country won the second-highest number of medals at the 1976 Summer Olympics?",
      "metadata": {
        "id": "fie53PXraNGI"
      }
    },
    {
      "cell_type": "markdown",
      "source": "##### First, filter `df` for the year 1976 and the Summer Olympics. Then, group the resulting DataFrame `df_1976_summer` by the `Team` column, and count the number of medals each team won. Finally, sort the counts in descending order and find the country won the second-highest number of medals at the 1976 Summer Olympics using index[1]",
      "metadata": {
        "id": "vkl-vuMDaNGI"
      }
    },
    {
      "cell_type": "code",
      "source": "df_1976_summer = df[(df['Year'] == 1976) & (df['Season'] == 'Summer')]\ndf_1976_summer.groupby('Team')['Medal'].count().sort_values(ascending=False).index[1]",
      "metadata": {
        "id": "vkl-vuMDaNGI",
        "trusted": true
      },
      "execution_count": 101,
      "outputs": [
        {
          "execution_count": 101,
          "output_type": "execute_result",
          "data": {
            "text/plain": "'East Germany'"
          },
          "metadata": {}
        }
      ]
    },
    {
      "cell_type": "markdown",
      "source": "Q15. Where were the 1998 Winter Olympics held?",
      "metadata": {
        "id": "KEauoiHqaNGJ"
      }
    },
    {
      "cell_type": "markdown",
      "source": "##### Filter `df` based on two conditions: the year is 1998 and the season is \"Winter\". Then, find the city where the 1998 Winter Olympics held using the iloc method with an index of 0",
      "metadata": {
        "id": "H_tP7Cw2aNGJ"
      }
    },
    {
      "cell_type": "code",
      "source": "df[(df['Year'] == 1998) & (df['Season'] == 'Winter')]['City'].iloc[0]",
      "metadata": {
        "id": "H_tP7Cw2aNGJ",
        "trusted": true
      },
      "execution_count": 102,
      "outputs": [
        {
          "execution_count": 102,
          "output_type": "execute_result",
          "data": {
            "text/plain": "'Nagano'"
          },
          "metadata": {}
        }
      ]
    },
    {
      "cell_type": "markdown",
      "source": "Q16. In the 2012 Summer Olympics, which of the following countries won more medals than it did in the 2008 Summer Olympics?  Multiple Choice\n\nCanada, Australia, France, Kenya, United States",
      "metadata": {
        "id": "nyJP5Oq7aNGK"
      }
    },
    {
      "cell_type": "markdown",
      "source": "##### Filter the DataFrame to include only rows where the year is 2008 or 2012 and the season is Summer. Then, create a list containing the five countries. Third, use a for loop to get the total number of medals for each country in each year. Finally, check which countries won more medals in 2012 than in 2008",
      "metadata": {
        "id": "iAVm9JPbaNGK"
      }
    },
    {
      "cell_type": "code",
      "source": "year_2008 = df[(df['Year'] == 2008) & (df['Season'] == 'Summer')]\nyear_2012 = df[(df['Year'] == 2012) & (df['Season'] == 'Summer')]\ncountries = ['Canada', 'Australia', 'France', 'Kenya', 'United States']\nfor country in countries:\n    medals_2008 = len(year_2008[(year_2008['Team'] == country) & (year_2008['Medal'].notnull())])\n    medals_2012 = len(year_2012[(year_2012['Team'] == country) & (year_2012['Medal'].notnull())])\n    if medals_2012 > medals_2008:\n        print(country, \"won more medals in 2012 than in 2008\")",
      "metadata": {
        "id": "iAVm9JPbaNGK",
        "trusted": true
      },
      "execution_count": 135,
      "outputs": [
        {
          "name": "stdout",
          "text": "Canada won more medals in 2012 than in 2008\nFrance won more medals in 2012 than in 2008\n",
          "output_type": "stream"
        }
      ]
    },
    {
      "cell_type": "markdown",
      "source": "Q17. Find the ratio of female and male participants(number of femal/number of male) in year 2000. Note: If for example a player has participated in more than one event then count them once. ",
      "metadata": {
        "id": "xp19MooUaNGM"
      }
    },
    {
      "cell_type": "markdown",
      "source": "##### Filter `df` for the year 2000. Then, count the number of unique female and male participants. Finally, calculate the ratio of female and male participants",
      "metadata": {
        "id": "H9Dfy02-aNGM"
      }
    },
    {
      "cell_type": "code",
      "source": "df_2000 = df[df['Year'] == 2000]\nfemale = df_2000[df_2000['Sex'] == 'F']['ID'].unique()\nnum_female = len(female)\nmale = df_2000[df_2000['Sex'] == 'M']['ID'].unique()\nnum_male = len(male)\nnum_female / num_male",
      "metadata": {
        "id": "H9Dfy02-aNGM",
        "trusted": true
      },
      "execution_count": 132,
      "outputs": [
        {
          "execution_count": 132,
          "output_type": "execute_result",
          "data": {
            "text/plain": "0.6183310533515732"
          },
          "metadata": {}
        }
      ]
    },
    {
      "cell_type": "markdown",
      "source": "Q18. What is the average number of medals won by Germany between 1964 and 2008 at the Summer Olympics?",
      "metadata": {
        "id": "Tr_zbKuxaNGM"
      }
    },
    {
      "cell_type": "markdown",
      "source": "##### Filter `df` for Team Germany in the Summer Olympics between 1964 and 2008. Then, group the new DataFrame by years and count the medals won. Finally, calculate the average number of medals won by Germany",
      "metadata": {
        "id": "H9Dfy02-aNGM"
      }
    },
    {
      "cell_type": "code",
      "source": "df_summer_germany = df[(df['Season'] == 'Summer') & (df['Year'] >= 1964) & (df['Year'] <= 2008) & (df['Team'] == 'Germany')]\ngermany_medals = df_summer_germany.groupby('Year')['Medal'].count()\ngermany_medals.mean()",
      "metadata": {
        "id": "2gWGLIjEaNGN",
        "trusted": true
      },
      "execution_count": 105,
      "outputs": [
        {
          "execution_count": 105,
          "output_type": "execute_result",
          "data": {
            "text/plain": "132.0"
          },
          "metadata": {}
        }
      ]
    },
    {
      "cell_type": "markdown",
      "source": "Q19. Which plotting technique would you use to compare the  total medals won by Germany between 1964 and 2008? Plot a graph, showing the same.",
      "metadata": {
        "id": "43Pn3dHNaNGN"
      }
    },
    {
      "cell_type": "markdown",
      "source": "##### First, create a bar chart using the year (germany_medals.index) as the x-axis values and the number of medals (germany_medals.values) as the y-axis values. Second, set the x-axis and y-axis labels respectively. Third, sets the title of the chart. Finally, display the chart",
      "metadata": {
        "id": "QHu7pm9faNGN"
      }
    },
    {
      "cell_type": "code",
      "source": "plt.bar(germany_medals.index, germany_medals.values)\nplt.xlabel('Year')\nplt.ylabel('Number of Medals')\nplt.title('Total Medals Won by Germany (1964-2008)')\nplt.show()",
      "metadata": {
        "id": "QHu7pm9faNGN",
        "trusted": true
      },
      "execution_count": 106,
      "outputs": [
        {
          "output_type": "display_data",
          "data": {
            "text/plain": "<Figure size 640x480 with 1 Axes>",
            "image/png": "[encoded data removed]"
          },
          "metadata": {}
        }
      ]
    }
  ]
}